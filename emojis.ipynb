{
 "cells": [
  {
   "cell_type": "code",
   "execution_count": 1,
   "id": "compound-mexico",
   "metadata": {},
   "outputs": [],
   "source": [
    "import pandas as pd\n",
    "import numpy as np\n",
    "import matplotlib.pyplot as plt\n",
    "import seaborn as sns"
   ]
  },
  {
   "cell_type": "code",
   "execution_count": 2,
   "id": "concerned-vacuum",
   "metadata": {},
   "outputs": [],
   "source": [
    "from textblob import TextBlob"
   ]
  },
  {
   "cell_type": "code",
   "execution_count": 3,
   "id": "weighted-jackson",
   "metadata": {},
   "outputs": [
    {
     "name": "stderr",
     "output_type": "stream",
     "text": [
      "b'Skipping line 113225: expected 4 fields, saw 5\\n'\n",
      "b'Skipping line 158379: expected 4 fields, saw 7\\nSkipping line 241590: expected 4 fields, saw 5\\nSkipping line 245637: expected 4 fields, saw 7\\n'\n",
      "b'Skipping line 521402: expected 4 fields, saw 5\\n'\n"
     ]
    }
   ],
   "source": [
    "comments = pd.read_csv(\"./data/GBcomments.csv\", error_bad_lines = False)"
   ]
  },
  {
   "cell_type": "code",
   "execution_count": 4,
   "id": "ethical-convert",
   "metadata": {},
   "outputs": [
    {
     "data": {
      "text/plain": [
       "video_id         0\n",
       "comment_text    28\n",
       "likes            0\n",
       "replies          0\n",
       "dtype: int64"
      ]
     },
     "execution_count": 4,
     "metadata": {},
     "output_type": "execute_result"
    }
   ],
   "source": [
    "comments.isna().sum()"
   ]
  },
  {
   "cell_type": "code",
   "execution_count": 5,
   "id": "humanitarian-helicopter",
   "metadata": {},
   "outputs": [],
   "source": [
    "comments.dropna(inplace= True)"
   ]
  },
  {
   "cell_type": "code",
   "execution_count": 13,
   "id": "valued-convertible",
   "metadata": {},
   "outputs": [
    {
     "name": "stdout",
     "output_type": "stream",
     "text": [
      "Collecting emoji\n",
      "  Downloading emoji-1.2.0-py3-none-any.whl (131 kB)\n",
      "\u001b[K     |████████████████████████████████| 131 kB 3.5 MB/s eta 0:00:01\n",
      "\u001b[?25hInstalling collected packages: emoji\n",
      "Successfully installed emoji-1.2.0\n"
     ]
    }
   ],
   "source": [
    "#!pip install emoji"
   ]
  },
  {
   "cell_type": "code",
   "execution_count": 7,
   "id": "capable-isaac",
   "metadata": {},
   "outputs": [],
   "source": []
  },
  {
   "cell_type": "code",
   "execution_count": 30,
   "id": "brazilian-superior",
   "metadata": {},
   "outputs": [],
   "source": [
    "from emoji import UNICODE_EMOJI"
   ]
  },
  {
   "cell_type": "code",
   "execution_count": 51,
   "id": "convenient-camera",
   "metadata": {},
   "outputs": [],
   "source": [
    "comment = comments[\"comment_text\"][1]"
   ]
  },
  {
   "cell_type": "code",
   "execution_count": 52,
   "id": "oriental-cooling",
   "metadata": {},
   "outputs": [
    {
     "data": {
      "text/plain": [
       "'To be there with a samsung phone\\\\n😂😂😂'"
      ]
     },
     "execution_count": 52,
     "metadata": {},
     "output_type": "execute_result"
    }
   ],
   "source": [
    "comment"
   ]
  },
  {
   "cell_type": "code",
   "execution_count": 35,
   "id": "hollywood-excuse",
   "metadata": {},
   "outputs": [
    {
     "data": {
      "text/plain": [
       "'😂'"
      ]
     },
     "execution_count": 35,
     "metadata": {},
     "output_type": "execute_result"
    }
   ],
   "source": [
    "comment[-1]"
   ]
  },
  {
   "cell_type": "code",
   "execution_count": 39,
   "id": "pleasant-accreditation",
   "metadata": {},
   "outputs": [
    {
     "data": {
      "text/plain": [
       "True"
      ]
     },
     "execution_count": 39,
     "metadata": {},
     "output_type": "execute_result"
    }
   ],
   "source": [
    "comment[-1] in emoji.UNICODE_EMOJI_ENGLISH\n"
   ]
  },
  {
   "cell_type": "code",
   "execution_count": 40,
   "id": "compound-triple",
   "metadata": {},
   "outputs": [
    {
     "data": {
      "text/plain": [
       "['😂', '😂', '😂']"
      ]
     },
     "execution_count": 40,
     "metadata": {},
     "output_type": "execute_result"
    }
   ],
   "source": [
    "[c for c in comment if c in emoji.UNICODE_EMOJI_ENGLISH]"
   ]
  },
  {
   "cell_type": "code",
   "execution_count": 59,
   "id": "cultural-angel",
   "metadata": {},
   "outputs": [],
   "source": [
    "emojis = \"\"\n",
    "for comment in comments[\"comment_text\"]:\n",
    "    for char in comment:\n",
    "        if char in emoji.UNICODE_EMOJI_ENGLISH:\n",
    "            emojis = emojis+char\n"
   ]
  },
  {
   "cell_type": "code",
   "execution_count": 63,
   "id": "billion-packing",
   "metadata": {},
   "outputs": [],
   "source": [
    "result = {}\n",
    "for e in set(emojis):\n",
    "    result[e] = emojis.count(e)"
   ]
  },
  {
   "cell_type": "code",
   "execution_count": 81,
   "id": "informational-blast",
   "metadata": {},
   "outputs": [],
   "source": [
    "final = {}\n",
    "for key,values in sorted(result.items(), key = lambda item:item[1]):\n",
    "    final[key] = values"
   ]
  },
  {
   "cell_type": "code",
   "execution_count": 85,
   "id": "sapphire-rouge",
   "metadata": {},
   "outputs": [],
   "source": [
    "key = [*final.keys()]"
   ]
  },
  {
   "cell_type": "code",
   "execution_count": 87,
   "id": "compliant-swiss",
   "metadata": {},
   "outputs": [],
   "source": [
    "values = [*final.values()]"
   ]
  },
  {
   "cell_type": "code",
   "execution_count": 89,
   "id": "vulnerable-equity",
   "metadata": {},
   "outputs": [],
   "source": [
    "df = pd.DataFrame({\"chars\":key[-20:], \"num\":values[-20:]})"
   ]
  },
  {
   "cell_type": "code",
   "execution_count": 90,
   "id": "quality-worthy",
   "metadata": {},
   "outputs": [
    {
     "data": {
      "text/html": [
       "<div>\n",
       "<style scoped>\n",
       "    .dataframe tbody tr th:only-of-type {\n",
       "        vertical-align: middle;\n",
       "    }\n",
       "\n",
       "    .dataframe tbody tr th {\n",
       "        vertical-align: top;\n",
       "    }\n",
       "\n",
       "    .dataframe thead th {\n",
       "        text-align: right;\n",
       "    }\n",
       "</style>\n",
       "<table border=\"1\" class=\"dataframe\">\n",
       "  <thead>\n",
       "    <tr style=\"text-align: right;\">\n",
       "      <th></th>\n",
       "      <th>chars</th>\n",
       "      <th>num</th>\n",
       "    </tr>\n",
       "  </thead>\n",
       "  <tbody>\n",
       "    <tr>\n",
       "      <th>0</th>\n",
       "      <td>🙌</td>\n",
       "      <td>2734</td>\n",
       "    </tr>\n",
       "    <tr>\n",
       "      <th>1</th>\n",
       "      <td>🏼</td>\n",
       "      <td>2961</td>\n",
       "    </tr>\n",
       "    <tr>\n",
       "      <th>2</th>\n",
       "      <td>💙</td>\n",
       "      <td>2968</td>\n",
       "    </tr>\n",
       "    <tr>\n",
       "      <th>3</th>\n",
       "      <td>💗</td>\n",
       "      <td>3071</td>\n",
       "    </tr>\n",
       "    <tr>\n",
       "      <th>4</th>\n",
       "      <td>👌</td>\n",
       "      <td>3534</td>\n",
       "    </tr>\n",
       "  </tbody>\n",
       "</table>\n",
       "</div>"
      ],
      "text/plain": [
       "  chars   num\n",
       "0     🙌  2734\n",
       "1     🏼  2961\n",
       "2     💙  2968\n",
       "3     💗  3071\n",
       "4     👌  3534"
      ]
     },
     "execution_count": 90,
     "metadata": {},
     "output_type": "execute_result"
    }
   ],
   "source": [
    "df.head()"
   ]
  }
 ],
 "metadata": {
  "kernelspec": {
   "display_name": "Python 3",
   "language": "python",
   "name": "python3"
  },
  "language_info": {
   "codemirror_mode": {
    "name": "ipython",
    "version": 3
   },
   "file_extension": ".py",
   "mimetype": "text/x-python",
   "name": "python",
   "nbconvert_exporter": "python",
   "pygments_lexer": "ipython3",
   "version": "3.7.0"
  }
 },
 "nbformat": 4,
 "nbformat_minor": 5
}
